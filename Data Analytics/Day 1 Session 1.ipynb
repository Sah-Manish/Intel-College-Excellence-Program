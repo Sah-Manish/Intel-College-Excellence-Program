{
 "cells": [
  {
   "cell_type": "markdown",
   "id": "6f0ed3cb",
   "metadata": {},
   "source": [
    "# Day 1 Session 1"
   ]
  },
  {
   "cell_type": "code",
   "execution_count": 1,
   "id": "4f81a3c8",
   "metadata": {},
   "outputs": [
    {
     "name": "stdout",
     "output_type": "stream",
     "text": [
      "Hello World!\n"
     ]
    }
   ],
   "source": [
    "print(\"Hello World!\")"
   ]
  },
  {
   "cell_type": "code",
   "execution_count": 6,
   "id": "2e3b89a1",
   "metadata": {},
   "outputs": [
    {
     "name": "stdout",
     "output_type": "stream",
     "text": [
      "18.89462526573535\n"
     ]
    }
   ],
   "source": [
    "# person weight 100 lbs and 61 inches\n",
    "w=100*0.453592\n",
    "h=61*0.0254\n",
    "bmi = w/(h*h)\n",
    "print(bmi)"
   ]
  },
  {
   "cell_type": "code",
   "execution_count": 4,
   "id": "43cbcc67",
   "metadata": {},
   "outputs": [],
   "source": [
    "h_p=[61, 62, 65, 63, 67] # height of 5 people in inches\n",
    "w_p=[100, 200, 160, 180, 123] # weight of 5 people in lbs"
   ]
  },
  {
   "cell_type": "code",
   "execution_count": 5,
   "id": "fae7e1f1",
   "metadata": {},
   "outputs": [
    {
     "data": {
      "text/plain": [
       "array([1.5494, 1.5748, 1.651 , 1.6002, 1.7018])"
      ]
     },
     "execution_count": 5,
     "metadata": {},
     "output_type": "execute_result"
    }
   ],
   "source": [
    "import numpy as np\n",
    "array_hp=np.array(h_p)\n",
    "array_hp=array_hp*0.0254 # Broadcasting\n",
    "array_hp"
   ]
  },
  {
   "cell_type": "code",
   "execution_count": 12,
   "id": "2192372b",
   "metadata": {},
   "outputs": [
    {
     "data": {
      "text/plain": [
       "array([45.3592  , 90.7184  , 72.57472 , 81.64656 , 55.791816])"
      ]
     },
     "execution_count": 12,
     "metadata": {},
     "output_type": "execute_result"
    }
   ],
   "source": [
    "array_wp=np.array(w_p)\n",
    "array_wp=array_wp*0.453592 # Broadcasting\n",
    "array_wp"
   ]
  },
  {
   "cell_type": "code",
   "execution_count": 14,
   "id": "384b48ec",
   "metadata": {},
   "outputs": [
    {
     "data": {
      "text/plain": [
       "array([18.89462527, 36.58007316, 26.62509846, 31.8852157 , 19.26431004])"
      ]
     },
     "execution_count": 14,
     "metadata": {},
     "output_type": "execute_result"
    }
   ],
   "source": [
    "bmi=array_wp/(array_hp*array_hp)\n",
    "bmi"
   ]
  },
  {
   "cell_type": "code",
   "execution_count": 16,
   "id": "81cbd078",
   "metadata": {},
   "outputs": [
    {
     "name": "stdout",
     "output_type": "stream",
     "text": [
      "[ 1  2  3  4  5  6  7  8  9 10]\n",
      "<class 'numpy.ndarray'>\n",
      "1\n",
      "(10,)\n",
      "10\n"
     ]
    }
   ],
   "source": [
    "# 1 Dimension\n",
    "a=np.array([1,2,3,4,5,6,7,8,9,10])\n",
    "print(a)\n",
    "print(type(a))\n",
    "print(a.ndim)\n",
    "print(a.shape)\n",
    "print(len(a))"
   ]
  },
  {
   "cell_type": "code",
   "execution_count": 19,
   "id": "8eb87559",
   "metadata": {},
   "outputs": [
    {
     "name": "stdout",
     "output_type": "stream",
     "text": [
      "[[1 2 3]\n",
      " [4 5 6]]\n",
      "<class 'numpy.ndarray'>\n",
      "2\n",
      "(2, 3)\n",
      "2\n"
     ]
    }
   ],
   "source": [
    "# 2 Dimension\n",
    "b=np.array([[1, 2, 3], [4, 5, 6]])\n",
    "print(b)\n",
    "print(type(b))\n",
    "print(b.ndim)\n",
    "print(b.shape)\n",
    "print(len(b))"
   ]
  },
  {
   "cell_type": "code",
   "execution_count": 20,
   "id": "130264de",
   "metadata": {},
   "outputs": [
    {
     "name": "stdout",
     "output_type": "stream",
     "text": [
      "[[10 11]\n",
      " [20 21]\n",
      " [30 31]]\n",
      "<class 'numpy.ndarray'>\n",
      "2\n",
      "(3, 2)\n",
      "3\n"
     ]
    }
   ],
   "source": [
    "# 2 Dimension\n",
    "c=np.array([[10, 11], [20, 21], [30, 31]])\n",
    "print(c)\n",
    "print(type(c))\n",
    "print(c.ndim)\n",
    "print(c.shape)\n",
    "print(len(c))"
   ]
  },
  {
   "cell_type": "code",
   "execution_count": 23,
   "id": "42b2d614",
   "metadata": {},
   "outputs": [
    {
     "data": {
      "text/plain": [
       "array([4, 3, 5, 8, 6])"
      ]
     },
     "execution_count": 23,
     "metadata": {},
     "output_type": "execute_result"
    }
   ],
   "source": [
    "np.random.randint(1,10,5) # parameter (start value, ending value, no. of values)"
   ]
  },
  {
   "cell_type": "code",
   "execution_count": 28,
   "id": "f582c962",
   "metadata": {},
   "outputs": [
    {
     "name": "stdout",
     "output_type": "stream",
     "text": [
      "CPU times: total: 0 ns\n",
      "Wall time: 0 ns\n"
     ]
    },
    {
     "data": {
      "text/plain": [
       "(array([12, 13, 14]), array([4, 4, 2], dtype=int64))"
      ]
     },
     "execution_count": 28,
     "metadata": {},
     "output_type": "execute_result"
    }
   ],
   "source": [
    "x=np.array([12,12,13,14,14,13,13,13,12,12])\n",
    "np.unique(x, return_counts=True) # select method and press shift+tab it will show parameters"
   ]
  },
  {
   "cell_type": "code",
   "execution_count": 30,
   "id": "baa41f5c",
   "metadata": {},
   "outputs": [
    {
     "data": {
      "text/plain": [
       "array([[ 58,  64],\n",
       "       [139, 154]])"
      ]
     },
     "execution_count": 30,
     "metadata": {},
     "output_type": "execute_result"
    }
   ],
   "source": [
    "# Dot Product\n",
    "A=np.array([[1, 2, 3], [4, 5, 6]])\n",
    "B=np.array([[7, 8], [9, 10], [11, 12]])\n",
    "C=np.dot(A,B)\n",
    "C"
   ]
  },
  {
   "cell_type": "code",
   "execution_count": 31,
   "id": "1df948f0",
   "metadata": {},
   "outputs": [
    {
     "data": {
      "text/plain": [
       "array([[ 58,  64],\n",
       "       [139, 154]])"
      ]
     },
     "execution_count": 31,
     "metadata": {},
     "output_type": "execute_result"
    }
   ],
   "source": [
    "A@B"
   ]
  },
  {
   "cell_type": "code",
   "execution_count": 35,
   "id": "6330f790",
   "metadata": {},
   "outputs": [
    {
     "name": "stdout",
     "output_type": "stream",
     "text": [
      "[7 6 4 5 5 1 2 8 3 5]\n",
      "[49 36 16 25 25  1  4 64  9 25]\n"
     ]
    }
   ],
   "source": [
    "x=np.random.randint(1,10,10)\n",
    "print(x)\n",
    "p1=np.power(x,2)\n",
    "print(p1)"
   ]
  },
  {
   "cell_type": "code",
   "execution_count": 43,
   "id": "61e99b22",
   "metadata": {},
   "outputs": [
    {
     "data": {
      "text/plain": [
       "4.242640687119285"
      ]
     },
     "execution_count": 43,
     "metadata": {},
     "output_type": "execute_result"
    }
   ],
   "source": [
    "# Euclidean Distance\n",
    "m=np.array([1, 3])\n",
    "n=np.array([4, 6])\n",
    "o=np.array(m-n) # np.subtract(a,b)\n",
    "sq=np.power(o, 2) # np.square(o)\n",
    "res=np.sum(sq)\n",
    "dist=np.sqrt(res)\n",
    "dist"
   ]
  },
  {
   "cell_type": "code",
   "execution_count": 46,
   "id": "264da5a0",
   "metadata": {},
   "outputs": [
    {
     "data": {
      "text/plain": [
       "4.242640687119285"
      ]
     },
     "execution_count": 46,
     "metadata": {},
     "output_type": "execute_result"
    }
   ],
   "source": [
    "# Normalization \n",
    "ans=np.sqrt(np.sum(np.power(np.subtract(np.array([1, 3]), np.array([4, 6])), 2)))\n",
    "ans"
   ]
  },
  {
   "cell_type": "code",
   "execution_count": 48,
   "id": "1f7916ea",
   "metadata": {},
   "outputs": [
    {
     "name": "stdout",
     "output_type": "stream",
     "text": [
      "[0.         0.33333333 0.96969697 0.33333333 1.        ]\n",
      "[0.         0.54545455 0.84848485 0.39393939 1.        ]\n"
     ]
    }
   ],
   "source": [
    "age=np.array([23, 34, 55, 34, 56])\n",
    "sal=np.array([12000, 30000, 40000, 25000, 45000])\n",
    "scaled_age=(age-np.min(age))/(np.max(age)-np.min(age))\n",
    "print(scaled_age)\n",
    "scaled_sal=(sal-np.min(sal))/(np.max(sal)-np.min(sal))\n",
    "print(scaled_sal)"
   ]
  },
  {
   "cell_type": "code",
   "execution_count": 12,
   "id": "9a0b2c9b",
   "metadata": {},
   "outputs": [
    {
     "data": {
      "text/plain": [
       "array([ 100,  100, -100])"
      ]
     },
     "execution_count": 12,
     "metadata": {},
     "output_type": "execute_result"
    }
   ],
   "source": [
    "# Mean Square Error\n",
    "ypred1=np.array([1100, 2100, 1900]) # predicted value\n",
    "ypred2=np.array([1050, 2050, 1950]) # predicted value\n",
    "yreal=np.array([1000, 2000, 2000]) # expected value\n",
    "error=np.subtract(ypred, yreal)\n",
    "error"
   ]
  },
  {
   "cell_type": "code",
   "execution_count": 7,
   "id": "5fc700d3",
   "metadata": {},
   "outputs": [
    {
     "data": {
      "text/plain": [
       "array([10000, 10000, 10000], dtype=int32)"
      ]
     },
     "execution_count": 7,
     "metadata": {},
     "output_type": "execute_result"
    }
   ],
   "source": [
    "s_error=np.square(error)\n",
    "s_error"
   ]
  },
  {
   "cell_type": "code",
   "execution_count": 8,
   "id": "de450561",
   "metadata": {},
   "outputs": [
    {
     "data": {
      "text/plain": [
       "10000.0"
      ]
     },
     "execution_count": 8,
     "metadata": {},
     "output_type": "execute_result"
    }
   ],
   "source": [
    "m_s_error=np.mean(s_error)\n",
    "m_s_error"
   ]
  },
  {
   "cell_type": "code",
   "execution_count": 10,
   "id": "f1fcbd3c",
   "metadata": {},
   "outputs": [
    {
     "data": {
      "text/plain": [
       "10000.0"
      ]
     },
     "execution_count": 10,
     "metadata": {},
     "output_type": "execute_result"
    }
   ],
   "source": [
    "res1=np.mean(np.square(np.subtract(ypred1, yreal)))\n",
    "res1"
   ]
  },
  {
   "cell_type": "code",
   "execution_count": 13,
   "id": "e37b1542",
   "metadata": {},
   "outputs": [
    {
     "data": {
      "text/plain": [
       "2500.0"
      ]
     },
     "execution_count": 13,
     "metadata": {},
     "output_type": "execute_result"
    }
   ],
   "source": [
    "res2=np.mean(np.square(np.subtract(ypred2, yreal)))\n",
    "res2"
   ]
  },
  {
   "cell_type": "code",
   "execution_count": null,
   "id": "0e8fd7c3",
   "metadata": {},
   "outputs": [],
   "source": []
  }
 ],
 "metadata": {
  "kernelspec": {
   "display_name": "Python 3 (ipykernel)",
   "language": "python",
   "name": "python3"
  },
  "language_info": {
   "codemirror_mode": {
    "name": "ipython",
    "version": 3
   },
   "file_extension": ".py",
   "mimetype": "text/x-python",
   "name": "python",
   "nbconvert_exporter": "python",
   "pygments_lexer": "ipython3",
   "version": "3.9.10"
  }
 },
 "nbformat": 4,
 "nbformat_minor": 5
}
