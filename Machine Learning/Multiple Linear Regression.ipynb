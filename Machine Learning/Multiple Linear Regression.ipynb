{
 "cells": [
  {
   "cell_type": "markdown",
   "id": "716bd6d2",
   "metadata": {},
   "source": [
    "# Multiple Linear Regression\n",
    "## y= m1x1+ m2x2 + .... mnxn"
   ]
  },
  {
   "cell_type": "code",
   "execution_count": 1,
   "id": "8472eec6",
   "metadata": {},
   "outputs": [],
   "source": [
    "import numpy as np\n",
    "import pandas as pd\n",
    "import matplotlib.pyplot as plt"
   ]
  },
  {
   "cell_type": "code",
   "execution_count": 3,
   "id": "8c5083ba",
   "metadata": {},
   "outputs": [
    {
     "data": {
      "text/html": [
       "<div>\n",
       "<style scoped>\n",
       "    .dataframe tbody tr th:only-of-type {\n",
       "        vertical-align: middle;\n",
       "    }\n",
       "\n",
       "    .dataframe tbody tr th {\n",
       "        vertical-align: top;\n",
       "    }\n",
       "\n",
       "    .dataframe thead th {\n",
       "        text-align: right;\n",
       "    }\n",
       "</style>\n",
       "<table border=\"1\" class=\"dataframe\">\n",
       "  <thead>\n",
       "    <tr style=\"text-align: right;\">\n",
       "      <th></th>\n",
       "      <th>Date</th>\n",
       "      <th>Day</th>\n",
       "      <th>Temperature</th>\n",
       "      <th>Rainfall</th>\n",
       "      <th>Flyers</th>\n",
       "      <th>Price</th>\n",
       "      <th>Sales</th>\n",
       "    </tr>\n",
       "  </thead>\n",
       "  <tbody>\n",
       "    <tr>\n",
       "      <th>0</th>\n",
       "      <td>01/01/2017</td>\n",
       "      <td>Sunday</td>\n",
       "      <td>27.0</td>\n",
       "      <td>2.00</td>\n",
       "      <td>15</td>\n",
       "      <td>0.3</td>\n",
       "      <td>10</td>\n",
       "    </tr>\n",
       "    <tr>\n",
       "      <th>1</th>\n",
       "      <td>02/01/2017</td>\n",
       "      <td>Monday</td>\n",
       "      <td>28.9</td>\n",
       "      <td>1.33</td>\n",
       "      <td>15</td>\n",
       "      <td>0.3</td>\n",
       "      <td>13</td>\n",
       "    </tr>\n",
       "    <tr>\n",
       "      <th>2</th>\n",
       "      <td>03/01/2017</td>\n",
       "      <td>Tuesday</td>\n",
       "      <td>34.5</td>\n",
       "      <td>1.33</td>\n",
       "      <td>27</td>\n",
       "      <td>0.3</td>\n",
       "      <td>15</td>\n",
       "    </tr>\n",
       "    <tr>\n",
       "      <th>3</th>\n",
       "      <td>04/01/2017</td>\n",
       "      <td>Wednesday</td>\n",
       "      <td>44.1</td>\n",
       "      <td>1.05</td>\n",
       "      <td>28</td>\n",
       "      <td>0.3</td>\n",
       "      <td>17</td>\n",
       "    </tr>\n",
       "    <tr>\n",
       "      <th>4</th>\n",
       "      <td>05/01/2017</td>\n",
       "      <td>Thursday</td>\n",
       "      <td>42.4</td>\n",
       "      <td>1.00</td>\n",
       "      <td>33</td>\n",
       "      <td>0.3</td>\n",
       "      <td>18</td>\n",
       "    </tr>\n",
       "    <tr>\n",
       "      <th>5</th>\n",
       "      <td>06/01/2017</td>\n",
       "      <td>Friday</td>\n",
       "      <td>25.3</td>\n",
       "      <td>1.54</td>\n",
       "      <td>23</td>\n",
       "      <td>0.3</td>\n",
       "      <td>11</td>\n",
       "    </tr>\n",
       "    <tr>\n",
       "      <th>6</th>\n",
       "      <td>07/01/2017</td>\n",
       "      <td>Saturday</td>\n",
       "      <td>32.9</td>\n",
       "      <td>1.54</td>\n",
       "      <td>19</td>\n",
       "      <td>0.3</td>\n",
       "      <td>13</td>\n",
       "    </tr>\n",
       "    <tr>\n",
       "      <th>7</th>\n",
       "      <td>08/01/2017</td>\n",
       "      <td>Sunday</td>\n",
       "      <td>37.5</td>\n",
       "      <td>1.18</td>\n",
       "      <td>28</td>\n",
       "      <td>0.3</td>\n",
       "      <td>15</td>\n",
       "    </tr>\n",
       "    <tr>\n",
       "      <th>8</th>\n",
       "      <td>09/01/2017</td>\n",
       "      <td>Monday</td>\n",
       "      <td>38.1</td>\n",
       "      <td>1.18</td>\n",
       "      <td>20</td>\n",
       "      <td>0.3</td>\n",
       "      <td>17</td>\n",
       "    </tr>\n",
       "    <tr>\n",
       "      <th>9</th>\n",
       "      <td>10/01/2017</td>\n",
       "      <td>Tuesday</td>\n",
       "      <td>43.4</td>\n",
       "      <td>1.05</td>\n",
       "      <td>33</td>\n",
       "      <td>0.3</td>\n",
       "      <td>18</td>\n",
       "    </tr>\n",
       "  </tbody>\n",
       "</table>\n",
       "</div>"
      ],
      "text/plain": [
       "         Date        Day  Temperature  Rainfall  Flyers  Price  Sales\n",
       "0  01/01/2017     Sunday         27.0      2.00      15    0.3     10\n",
       "1  02/01/2017     Monday         28.9      1.33      15    0.3     13\n",
       "2  03/01/2017    Tuesday         34.5      1.33      27    0.3     15\n",
       "3  04/01/2017  Wednesday         44.1      1.05      28    0.3     17\n",
       "4  05/01/2017   Thursday         42.4      1.00      33    0.3     18\n",
       "5  06/01/2017     Friday         25.3      1.54      23    0.3     11\n",
       "6  07/01/2017   Saturday         32.9      1.54      19    0.3     13\n",
       "7  08/01/2017     Sunday         37.5      1.18      28    0.3     15\n",
       "8  09/01/2017     Monday         38.1      1.18      20    0.3     17\n",
       "9  10/01/2017    Tuesday         43.4      1.05      33    0.3     18"
      ]
     },
     "execution_count": 3,
     "metadata": {},
     "output_type": "execute_result"
    }
   ],
   "source": [
    "path=\"https://raw.githubusercontent.com/prateekcsit/Machine-Learning/master/Lemonade.csv\"\n",
    "data=pd.read_csv(path)\n",
    "data.head(10)"
   ]
  },
  {
   "cell_type": "code",
   "execution_count": 5,
   "id": "12c4a1bc",
   "metadata": {},
   "outputs": [
    {
     "name": "stdout",
     "output_type": "stream",
     "text": [
      "<class 'pandas.core.frame.DataFrame'>\n",
      "RangeIndex: 365 entries, 0 to 364\n",
      "Data columns (total 7 columns):\n",
      " #   Column       Non-Null Count  Dtype  \n",
      "---  ------       --------------  -----  \n",
      " 0   Date         365 non-null    object \n",
      " 1   Day          365 non-null    object \n",
      " 2   Temperature  365 non-null    float64\n",
      " 3   Rainfall     365 non-null    float64\n",
      " 4   Flyers       365 non-null    int64  \n",
      " 5   Price        365 non-null    float64\n",
      " 6   Sales        365 non-null    int64  \n",
      "dtypes: float64(3), int64(2), object(2)\n",
      "memory usage: 20.1+ KB\n"
     ]
    }
   ],
   "source": [
    "data.info()"
   ]
  },
  {
   "cell_type": "code",
   "execution_count": 6,
   "id": "2c6d0ac7",
   "metadata": {},
   "outputs": [
    {
     "data": {
      "text/plain": [
       "(365, 7)"
      ]
     },
     "execution_count": 6,
     "metadata": {},
     "output_type": "execute_result"
    }
   ],
   "source": [
    "data.shape"
   ]
  },
  {
   "cell_type": "code",
   "execution_count": 8,
   "id": "850b44af",
   "metadata": {},
   "outputs": [
    {
     "data": {
      "text/plain": [
       "0     2017-01-01\n",
       "1     2017-01-02\n",
       "2     2017-01-03\n",
       "3     2017-01-04\n",
       "4     2017-01-05\n",
       "         ...    \n",
       "360   2017-12-27\n",
       "361   2017-12-28\n",
       "362   2017-12-29\n",
       "363   2017-12-30\n",
       "364   2017-12-31\n",
       "Name: Date, Length: 365, dtype: datetime64[ns]"
      ]
     },
     "execution_count": 8,
     "metadata": {},
     "output_type": "execute_result"
    }
   ],
   "source": [
    "data['Date'] = pd.to_datetime(data['Date'], format='%d/%m/%Y')\n",
    "data['Date']"
   ]
  },
  {
   "cell_type": "code",
   "execution_count": 9,
   "id": "5c0c4958",
   "metadata": {},
   "outputs": [
    {
     "name": "stdout",
     "output_type": "stream",
     "text": [
      "<class 'pandas.core.frame.DataFrame'>\n",
      "RangeIndex: 365 entries, 0 to 364\n",
      "Data columns (total 7 columns):\n",
      " #   Column       Non-Null Count  Dtype         \n",
      "---  ------       --------------  -----         \n",
      " 0   Date         365 non-null    datetime64[ns]\n",
      " 1   Day          365 non-null    object        \n",
      " 2   Temperature  365 non-null    float64       \n",
      " 3   Rainfall     365 non-null    float64       \n",
      " 4   Flyers       365 non-null    int64         \n",
      " 5   Price        365 non-null    float64       \n",
      " 6   Sales        365 non-null    int64         \n",
      "dtypes: datetime64[ns](1), float64(3), int64(2), object(1)\n",
      "memory usage: 20.1+ KB\n"
     ]
    }
   ],
   "source": [
    "data.info()"
   ]
  },
  {
   "cell_type": "markdown",
   "id": "ccc30ca1",
   "metadata": {},
   "source": [
    "# EDA"
   ]
  },
  {
   "cell_type": "code",
   "execution_count": 12,
   "id": "fae338d1",
   "metadata": {},
   "outputs": [
    {
     "data": {
      "image/png": "[encoded data removed]",
      "text/plain": [
       "<Figure size 1080x216 with 1 Axes>"
      ]
     },
     "metadata": {
      "needs_background": "light"
     },
     "output_type": "display_data"
    }
   ],
   "source": [
    "plt.figure(figsize=(15,3))\n",
    "plt.plot(data['Date'], data['Sales'])\n",
    "plt.show()"
   ]
  },
  {
   "cell_type": "code",
   "execution_count": 15,
   "id": "acb75811",
   "metadata": {},
   "outputs": [
    {
     "data": {
      "text/html": [
       "<div>\n",
       "<style scoped>\n",
       "    .dataframe tbody tr th:only-of-type {\n",
       "        vertical-align: middle;\n",
       "    }\n",
       "\n",
       "    .dataframe tbody tr th {\n",
       "        vertical-align: top;\n",
       "    }\n",
       "\n",
       "    .dataframe thead th {\n",
       "        text-align: right;\n",
       "    }\n",
       "</style>\n",
       "<table border=\"1\" class=\"dataframe\">\n",
       "  <thead>\n",
       "    <tr style=\"text-align: right;\">\n",
       "      <th></th>\n",
       "      <th>Date</th>\n",
       "      <th>Day</th>\n",
       "      <th>Temperature</th>\n",
       "      <th>Rainfall</th>\n",
       "      <th>Flyers</th>\n",
       "      <th>Price</th>\n",
       "      <th>Sales</th>\n",
       "    </tr>\n",
       "  </thead>\n",
       "  <tbody>\n",
       "    <tr>\n",
       "      <th>181</th>\n",
       "      <td>2017-07-01</td>\n",
       "      <td>Saturday</td>\n",
       "      <td>102.9</td>\n",
       "      <td>0.47</td>\n",
       "      <td>59</td>\n",
       "      <td>0.5</td>\n",
       "      <td>43</td>\n",
       "    </tr>\n",
       "    <tr>\n",
       "      <th>207</th>\n",
       "      <td>2017-07-27</td>\n",
       "      <td>Thursday</td>\n",
       "      <td>97.9</td>\n",
       "      <td>0.47</td>\n",
       "      <td>74</td>\n",
       "      <td>0.5</td>\n",
       "      <td>43</td>\n",
       "    </tr>\n",
       "  </tbody>\n",
       "</table>\n",
       "</div>"
      ],
      "text/plain": [
       "          Date       Day  Temperature  Rainfall  Flyers  Price  Sales\n",
       "181 2017-07-01  Saturday        102.9      0.47      59    0.5     43\n",
       "207 2017-07-27  Thursday         97.9      0.47      74    0.5     43"
      ]
     },
     "execution_count": 15,
     "metadata": {},
     "output_type": "execute_result"
    }
   ],
   "source": [
    "data[data['Sales']==data['Sales'].max()]"
   ]
  },
  {
   "cell_type": "code",
   "execution_count": 16,
   "id": "7f77bcb6",
   "metadata": {},
   "outputs": [
    {
     "data": {
      "text/html": [
       "<div>\n",
       "<style scoped>\n",
       "    .dataframe tbody tr th:only-of-type {\n",
       "        vertical-align: middle;\n",
       "    }\n",
       "\n",
       "    .dataframe tbody tr th {\n",
       "        vertical-align: top;\n",
       "    }\n",
       "\n",
       "    .dataframe thead th {\n",
       "        text-align: right;\n",
       "    }\n",
       "</style>\n",
       "<table border=\"1\" class=\"dataframe\">\n",
       "  <thead>\n",
       "    <tr style=\"text-align: right;\">\n",
       "      <th></th>\n",
       "      <th>Date</th>\n",
       "      <th>Day</th>\n",
       "      <th>Temperature</th>\n",
       "      <th>Rainfall</th>\n",
       "      <th>Flyers</th>\n",
       "      <th>Price</th>\n",
       "      <th>Sales</th>\n",
       "    </tr>\n",
       "  </thead>\n",
       "  <tbody>\n",
       "    <tr>\n",
       "      <th>364</th>\n",
       "      <td>2017-12-31</td>\n",
       "      <td>Sunday</td>\n",
       "      <td>15.1</td>\n",
       "      <td>2.5</td>\n",
       "      <td>9</td>\n",
       "      <td>0.3</td>\n",
       "      <td>7</td>\n",
       "    </tr>\n",
       "  </tbody>\n",
       "</table>\n",
       "</div>"
      ],
      "text/plain": [
       "          Date     Day  Temperature  Rainfall  Flyers  Price  Sales\n",
       "364 2017-12-31  Sunday         15.1       2.5       9    0.3      7"
      ]
     },
     "execution_count": 16,
     "metadata": {},
     "output_type": "execute_result"
    }
   ],
   "source": [
    "data[data['Sales']==data['Sales'].min()]"
   ]
  },
  {
   "cell_type": "code",
   "execution_count": 17,
   "id": "0ed5deee",
   "metadata": {},
   "outputs": [
    {
     "data": {
      "text/plain": [
       "102.9"
      ]
     },
     "execution_count": 17,
     "metadata": {},
     "output_type": "execute_result"
    }
   ],
   "source": [
    "data['Temperature'].max()"
   ]
  },
  {
   "cell_type": "code",
   "execution_count": 18,
   "id": "77d47270",
   "metadata": {},
   "outputs": [
    {
     "data": {
      "text/plain": [
       "15.1"
      ]
     },
     "execution_count": 18,
     "metadata": {},
     "output_type": "execute_result"
    }
   ],
   "source": [
    "data['Temperature'].min()"
   ]
  },
  {
   "cell_type": "code",
   "execution_count": 19,
   "id": "c2c88484",
   "metadata": {},
   "outputs": [
    {
     "data": {
      "text/plain": [
       "Sunday       53\n",
       "Monday       52\n",
       "Tuesday      52\n",
       "Wednesday    52\n",
       "Thursday     52\n",
       "Friday       52\n",
       "Saturday     52\n",
       "Name: Day, dtype: int64"
      ]
     },
     "execution_count": 19,
     "metadata": {},
     "output_type": "execute_result"
    }
   ],
   "source": [
    "data['Day'].value_counts()"
   ]
  },
  {
   "cell_type": "code",
   "execution_count": 20,
   "id": "b38a14cf",
   "metadata": {},
   "outputs": [
    {
     "data": {
      "image/png": "[encoded data removed]",
      "text/plain": [
       "<Figure size 432x288 with 1 Axes>"
      ]
     },
     "metadata": {
      "needs_background": "light"
     },
     "output_type": "display_data"
    }
   ],
   "source": [
    "plt.scatter(data['Temperature'],data['Sales'])\n",
    "plt.xlabel('Temperature')\n",
    "plt.ylabel('Sales')\n",
    "plt.show()"
   ]
  },
  {
   "cell_type": "code",
   "execution_count": 22,
   "id": "b61cfb3c",
   "metadata": {},
   "outputs": [
    {
     "data": {
      "image/png": "[encoded data removed]",
      "text/plain": [
       "<Figure size 432x288 with 1 Axes>"
      ]
     },
     "metadata": {
      "needs_background": "light"
     },
     "output_type": "display_data"
    }
   ],
   "source": [
    "plt.scatter(data['Rainfall'],data['Sales'])\n",
    "plt.xlabel('Rainfall')\n",
    "plt.ylabel('Sales')\n",
    "plt.show()"
   ]
  },
  {
   "cell_type": "code",
   "execution_count": 23,
   "id": "ba262185",
   "metadata": {},
   "outputs": [
    {
     "data": {
      "image/png": "[encoded data removed]",
      "text/plain": [
       "<Figure size 432x288 with 1 Axes>"
      ]
     },
     "metadata": {
      "needs_background": "light"
     },
     "output_type": "display_data"
    }
   ],
   "source": [
    "plt.scatter(data['Flyers'],data['Sales'])\n",
    "plt.xlabel('Flyers')\n",
    "plt.ylabel('Sales')\n",
    "plt.show()"
   ]
  },
  {
   "cell_type": "code",
   "execution_count": 24,
   "id": "cc5383fd",
   "metadata": {},
   "outputs": [
    {
     "data": {
      "text/plain": [
       "0.3    303\n",
       "0.5     62\n",
       "Name: Price, dtype: int64"
      ]
     },
     "execution_count": 24,
     "metadata": {},
     "output_type": "execute_result"
    }
   ],
   "source": [
    "data['Price'].value_counts()"
   ]
  },
  {
   "cell_type": "code",
   "execution_count": 25,
   "id": "0d9a001b",
   "metadata": {},
   "outputs": [
    {
     "data": {
      "text/plain": [
       "<AxesSubplot:>"
      ]
     },
     "execution_count": 25,
     "metadata": {},
     "output_type": "execute_result"
    },
    {
     "data": {
      "image/png": "[encoded data removed]",
      "text/plain": [
       "<Figure size 432x288 with 1 Axes>"
      ]
     },
     "metadata": {
      "needs_background": "light"
     },
     "output_type": "display_data"
    }
   ],
   "source": [
    "data['Price'].value_counts().plot(kind='bar')"
   ]
  },
  {
   "cell_type": "code",
   "execution_count": 26,
   "id": "70359a3a",
   "metadata": {},
   "outputs": [
    {
     "data": {
      "image/png": "[encoded data removed]",
      "text/plain": [
       "<Figure size 432x288 with 1 Axes>"
      ]
     },
     "metadata": {
      "needs_background": "light"
     },
     "output_type": "display_data"
    }
   ],
   "source": [
    "plt.scatter(data['Price'],data['Sales'])\n",
    "plt.xlabel('Price')\n",
    "plt.ylabel('Sales')\n",
    "plt.show()"
   ]
  },
  {
   "cell_type": "code",
   "execution_count": 27,
   "id": "f2458c34",
   "metadata": {},
   "outputs": [
    {
     "data": {
      "text/html": [
       "<div>\n",
       "<style scoped>\n",
       "    .dataframe tbody tr th:only-of-type {\n",
       "        vertical-align: middle;\n",
       "    }\n",
       "\n",
       "    .dataframe tbody tr th {\n",
       "        vertical-align: top;\n",
       "    }\n",
       "\n",
       "    .dataframe thead th {\n",
       "        text-align: right;\n",
       "    }\n",
       "</style>\n",
       "<table border=\"1\" class=\"dataframe\">\n",
       "  <thead>\n",
       "    <tr style=\"text-align: right;\">\n",
       "      <th></th>\n",
       "      <th>Temperature</th>\n",
       "      <th>Rainfall</th>\n",
       "      <th>Flyers</th>\n",
       "      <th>Price</th>\n",
       "      <th>Sales</th>\n",
       "    </tr>\n",
       "    <tr>\n",
       "      <th>Day</th>\n",
       "      <th></th>\n",
       "      <th></th>\n",
       "      <th></th>\n",
       "      <th></th>\n",
       "      <th></th>\n",
       "    </tr>\n",
       "  </thead>\n",
       "  <tbody>\n",
       "    <tr>\n",
       "      <th>Friday</th>\n",
       "      <td>61.134615</td>\n",
       "      <td>0.817115</td>\n",
       "      <td>40.326923</td>\n",
       "      <td>0.330769</td>\n",
       "      <td>25.384615</td>\n",
       "    </tr>\n",
       "    <tr>\n",
       "      <th>Monday</th>\n",
       "      <td>60.888462</td>\n",
       "      <td>0.823462</td>\n",
       "      <td>39.788462</td>\n",
       "      <td>0.334615</td>\n",
       "      <td>25.461538</td>\n",
       "    </tr>\n",
       "    <tr>\n",
       "      <th>Saturday</th>\n",
       "      <td>60.930769</td>\n",
       "      <td>0.823077</td>\n",
       "      <td>38.403846</td>\n",
       "      <td>0.334615</td>\n",
       "      <td>25.346154</td>\n",
       "    </tr>\n",
       "    <tr>\n",
       "      <th>Sunday</th>\n",
       "      <td>59.769811</td>\n",
       "      <td>0.873585</td>\n",
       "      <td>40.320755</td>\n",
       "      <td>0.333962</td>\n",
       "      <td>24.830189</td>\n",
       "    </tr>\n",
       "    <tr>\n",
       "      <th>Thursday</th>\n",
       "      <td>61.125000</td>\n",
       "      <td>0.812500</td>\n",
       "      <td>40.711538</td>\n",
       "      <td>0.334615</td>\n",
       "      <td>25.673077</td>\n",
       "    </tr>\n",
       "    <tr>\n",
       "      <th>Tuesday</th>\n",
       "      <td>59.944231</td>\n",
       "      <td>0.829423</td>\n",
       "      <td>41.057692</td>\n",
       "      <td>0.334615</td>\n",
       "      <td>25.134615</td>\n",
       "    </tr>\n",
       "    <tr>\n",
       "      <th>Wednesday</th>\n",
       "      <td>61.344231</td>\n",
       "      <td>0.806154</td>\n",
       "      <td>41.384615</td>\n",
       "      <td>0.334615</td>\n",
       "      <td>25.442308</td>\n",
       "    </tr>\n",
       "  </tbody>\n",
       "</table>\n",
       "</div>"
      ],
      "text/plain": [
       "           Temperature  Rainfall     Flyers     Price      Sales\n",
       "Day                                                             \n",
       "Friday       61.134615  0.817115  40.326923  0.330769  25.384615\n",
       "Monday       60.888462  0.823462  39.788462  0.334615  25.461538\n",
       "Saturday     60.930769  0.823077  38.403846  0.334615  25.346154\n",
       "Sunday       59.769811  0.873585  40.320755  0.333962  24.830189\n",
       "Thursday     61.125000  0.812500  40.711538  0.334615  25.673077\n",
       "Tuesday      59.944231  0.829423  41.057692  0.334615  25.134615\n",
       "Wednesday    61.344231  0.806154  41.384615  0.334615  25.442308"
      ]
     },
     "execution_count": 27,
     "metadata": {},
     "output_type": "execute_result"
    }
   ],
   "source": [
    "data.groupby('Day').mean()"
   ]
  },
  {
   "cell_type": "code",
   "execution_count": 28,
   "id": "2b26712d",
   "metadata": {},
   "outputs": [],
   "source": [
    "# Temperature, Flyer, Rainfall, Price- m1x1, m2x2, m3x3, m4x4 (sales)"
   ]
  },
  {
   "cell_type": "code",
   "execution_count": 29,
   "id": "78f9d871",
   "metadata": {},
   "outputs": [],
   "source": [
    "x=data[['Temperature', 'Rainfall', 'Flyers', 'Price' ]]\n",
    "y=data['Sales']\n",
    "\n",
    "from sklearn.model_selection import train_test_split\n",
    "x_train, x_test, y_train, y_test = train_test_split(x, y, random_state=42)\n"
   ]
  },
  {
   "cell_type": "code",
   "execution_count": 31,
   "id": "12082799",
   "metadata": {},
   "outputs": [
    {
     "data": {
      "text/plain": [
       "(92, 4)"
      ]
     },
     "execution_count": 31,
     "metadata": {},
     "output_type": "execute_result"
    }
   ],
   "source": [
    "x_test.shape"
   ]
  },
  {
   "cell_type": "code",
   "execution_count": 32,
   "id": "cd4eb90c",
   "metadata": {},
   "outputs": [
    {
     "data": {
      "text/plain": [
       "(273, 4)"
      ]
     },
     "execution_count": 32,
     "metadata": {},
     "output_type": "execute_result"
    }
   ],
   "source": [
    "x_train.shape"
   ]
  },
  {
   "cell_type": "code",
   "execution_count": 33,
   "id": "57f131be",
   "metadata": {},
   "outputs": [
    {
     "data": {
      "text/plain": [
       "(92,)"
      ]
     },
     "execution_count": 33,
     "metadata": {},
     "output_type": "execute_result"
    }
   ],
   "source": [
    "y_test.shape"
   ]
  },
  {
   "cell_type": "code",
   "execution_count": 34,
   "id": "e6b8772c",
   "metadata": {},
   "outputs": [
    {
     "data": {
      "text/plain": [
       "(273,)"
      ]
     },
     "execution_count": 34,
     "metadata": {},
     "output_type": "execute_result"
    }
   ],
   "source": [
    "y_train.shape"
   ]
  },
  {
   "cell_type": "code",
   "execution_count": 36,
   "id": "d8fb0d07",
   "metadata": {},
   "outputs": [],
   "source": [
    "from sklearn.linear_model import LinearRegression\n",
    "model=LinearRegression().fit(x_train, y_train)"
   ]
  },
  {
   "cell_type": "code",
   "execution_count": 40,
   "id": "8814ae4f",
   "metadata": {},
   "outputs": [
    {
     "data": {
      "text/plain": [
       "array([ 0.36848105, -2.54016824,  0.02256083,  1.48908515])"
      ]
     },
     "execution_count": 40,
     "metadata": {},
     "output_type": "execute_result"
    }
   ],
   "source": [
    "coef=model.coef_ # m1 m2 m3 m4\n",
    "m1=coef[0]\n",
    "m2=coef[1]\n",
    "m3=coef[2]\n",
    "m4=coef[3]\n",
    "coef"
   ]
  },
  {
   "cell_type": "code",
   "execution_count": 49,
   "id": "54c20db4",
   "metadata": {},
   "outputs": [
    {
     "data": {
      "text/plain": [
       "3.6289348153280585"
      ]
     },
     "execution_count": 49,
     "metadata": {},
     "output_type": "execute_result"
    }
   ],
   "source": [
    "c=model.intercept_\n",
    "c"
   ]
  },
  {
   "cell_type": "code",
   "execution_count": 42,
   "id": "5ef45fd6",
   "metadata": {},
   "outputs": [
    {
     "data": {
      "text/plain": [
       "array([33.00261012, 20.96433145, 11.65055939, 21.40943257, 18.8842075 ,\n",
       "       34.5671284 , 22.55039576, 27.71064323, 33.10151667, 29.21316072,\n",
       "        7.80730634, 18.14950524, 22.0616028 , 17.63286598, 30.10010709,\n",
       "       23.93909431,  9.28272462, 24.62467203, 20.39881669, 27.22935803,\n",
       "       18.14506858, 35.02840051, 24.35887676, 28.38435949, 30.09668522,\n",
       "       34.66487948, 32.23966533, 25.35412636, 14.65835216, 15.55098023,\n",
       "       14.49816651, 25.35062148, 23.37986102, 17.5351149 , 33.18651863,\n",
       "       27.09500784, 23.18575113, 15.92138906, 12.36848424, 22.71792319,\n",
       "       28.8754564 , 13.53768997, 17.12986876, 25.58724243, 28.3640585 ,\n",
       "       29.46768215, 23.97569341, 20.0754573 , 10.00527087, 21.66962915,\n",
       "       29.43920936, 12.8948911 , 25.84167428, 28.22118576, 42.04158661,\n",
       "       13.38476312, 25.85419971, 18.29020116, 11.61122115, 23.79120389,\n",
       "       29.60464294, 12.45980662, 24.30983519, 19.99425329, 26.51371172,\n",
       "       23.35278051, 28.88681981, 28.54411136, 37.53403273, 23.85888638,\n",
       "       26.74682779, 33.38303559, 20.38295236, 31.16997248, 17.50811741,\n",
       "       40.98579136, 24.06695153, 24.92422554, 14.91176922, 12.8948911 ,\n",
       "       24.64598781, 27.71165802, 15.52800438, 27.39398034, 26.64631886,\n",
       "       23.27825429, 23.62577032, 27.09726768, 25.47217844, 28.00393402,\n",
       "       20.18826146, 23.82002744])"
      ]
     },
     "execution_count": 42,
     "metadata": {},
     "output_type": "execute_result"
    }
   ],
   "source": [
    "pred=model.predict(x_test)\n",
    "pred"
   ]
  },
  {
   "cell_type": "code",
   "execution_count": 43,
   "id": "55f00b81",
   "metadata": {},
   "outputs": [
    {
     "data": {
      "text/plain": [
       "0.834980059610911"
      ]
     },
     "execution_count": 43,
     "metadata": {},
     "output_type": "execute_result"
    }
   ],
   "source": [
    "from sklearn.metrics import mean_squared_error\n",
    "mean_squared_error(pred, y_test)"
   ]
  },
  {
   "cell_type": "code",
   "execution_count": 47,
   "id": "17830cb6",
   "metadata": {},
   "outputs": [
    {
     "name": "stderr",
     "output_type": "stream",
     "text": [
      "C:\\Users\\sahma\\AppData\\Local\\Packages\\PythonSoftwareFoundation.Python.3.9_qbz5n2kfra8p0\\LocalCache\\local-packages\\Python39\\site-packages\\sklearn\\base.py:450: UserWarning: X does not have valid feature names, but LinearRegression was fitted with feature names\n",
      "  warnings.warn(\n"
     ]
    },
    {
     "data": {
      "text/plain": [
       "array([40.11785688])"
      ]
     },
     "execution_count": 47,
     "metadata": {},
     "output_type": "execute_result"
    }
   ],
   "source": [
    "z=99.5, 0.6, 40, 0.3 # x1,x2,x3,x4 values\n",
    "w=model.predict([z])\n",
    "w"
   ]
  },
  {
   "cell_type": "code",
   "execution_count": 50,
   "id": "a82d1f26",
   "metadata": {},
   "outputs": [
    {
     "data": {
      "text/plain": [
       "40.11785687921998"
      ]
     },
     "execution_count": 50,
     "metadata": {},
     "output_type": "execute_result"
    }
   ],
   "source": [
    "w2=99.5*m1+0.6*m2+40*m3+0.3*m4 +c\n",
    "w2"
   ]
  },
  {
   "cell_type": "code",
   "execution_count": null,
   "id": "6ba47ca5",
   "metadata": {},
   "outputs": [],
   "source": []
  }
 ],
 "metadata": {
  "kernelspec": {
   "display_name": "Python 3 (ipykernel)",
   "language": "python",
   "name": "python3"
  },
  "language_info": {
   "codemirror_mode": {
    "name": "ipython",
    "version": 3
   },
   "file_extension": ".py",
   "mimetype": "text/x-python",
   "name": "python",
   "nbconvert_exporter": "python",
   "pygments_lexer": "ipython3",
   "version": "3.9.10"
  }
 },
 "nbformat": 4,
 "nbformat_minor": 5
}
